{
 "cells": [
  {
   "cell_type": "code",
   "execution_count": null,
   "metadata": {
    "colab": {
     "base_uri": "https://localhost:8080/"
    },
    "executionInfo": {
     "elapsed": 676,
     "status": "ok",
     "timestamp": 1702870739834,
     "user": {
      "displayName": "Chao Huang",
      "userId": "02613034862469364833"
     },
     "user_tz": 300
    },
    "id": "9GNcBzGh94zh",
    "outputId": "eb4261bc-6b3e-459a-b640-99edf829dfed"
   },
   "outputs": [],
   "source": [
    "# Import Related Packages\n",
    "import numpy as np\n",
    "import pandas as pd\n",
    "import seaborn as sns\n",
    "import matplotlib.pyplot as plt\n",
    "import scipy.stats as stats\n",
    "from sklearn.metrics import accuracy_score\n",
    "from sklearn.model_selection import KFold\n",
    "from sklearn.model_selection import RandomizedSearchCV\n",
    "from sklearn.ensemble import RandomForestClassifier"
   ]
  },
  {
   "cell_type": "code",
   "execution_count": null,
   "metadata": {
    "executionInfo": {
     "elapsed": 3,
     "status": "ok",
     "timestamp": 1702870329714,
     "user": {
      "displayName": "Chao Huang",
      "userId": "02613034862469364833"
     },
     "user_tz": 300
    },
    "id": "115O58rg99Qf"
   },
   "outputs": [],
   "source": [
    "# Import trainset as train_set and testset as test_set\n",
    "project_dir = '../Titanic/'\n",
    "train_set = pd.read_csv(project_dir + 'train.csv')\n",
    "test_set = pd.read_csv(project_dir + 'test.csv')"
   ]
  },
  {
   "cell_type": "code",
   "execution_count": null,
   "metadata": {
    "colab": {
     "base_uri": "https://localhost:8080/",
     "height": 206
    },
    "executionInfo": {
     "elapsed": 8,
     "status": "ok",
     "timestamp": 1702870349239,
     "user": {
      "displayName": "Chao Huang",
      "userId": "02613034862469364833"
     },
     "user_tz": 300
    },
    "id": "6HsQFTM8-WGh",
    "outputId": "c93dba8f-441f-471a-f5f4-989ca08d8e6d"
   },
   "outputs": [],
   "source": [
    "# Print first five rows of the trainset\n",
    "train_set.head()"
   ]
  },
  {
   "cell_type": "code",
   "execution_count": null,
   "metadata": {
    "colab": {
     "base_uri": "https://localhost:8080/"
    },
    "executionInfo": {
     "elapsed": 4,
     "status": "ok",
     "timestamp": 1702870417560,
     "user": {
      "displayName": "Chao Huang",
      "userId": "02613034862469364833"
     },
     "user_tz": 300
    },
    "id": "JFPq-wkJ-p24",
    "outputId": "cf1b3f18-adf2-46dd-f2cc-01ffb5f17b0b"
   },
   "outputs": [],
   "source": [
    "# Check data type of each feature\n",
    "train_set.info()"
   ]
  },
  {
   "cell_type": "code",
   "execution_count": null,
   "metadata": {
    "colab": {
     "base_uri": "https://localhost:8080/"
    },
    "executionInfo": {
     "elapsed": 140,
     "status": "ok",
     "timestamp": 1702870541362,
     "user": {
      "displayName": "Chao Huang",
      "userId": "02613034862469364833"
     },
     "user_tz": 300
    },
    "id": "FiOM7f2E-8Sg",
    "outputId": "d77899fb-fcae-4fd6-c6fa-452ff117fc3c"
   },
   "outputs": [],
   "source": [
    "# Check null value of each feature\n",
    "train_set.isnull().sum()"
   ]
  },
  {
   "cell_type": "code",
   "execution_count": null,
   "metadata": {
    "colab": {
     "base_uri": "https://localhost:8080/"
    },
    "executionInfo": {
     "elapsed": 130,
     "status": "ok",
     "timestamp": 1702871156263,
     "user": {
      "displayName": "Chao Huang",
      "userId": "02613034862469364833"
     },
     "user_tz": 300
    },
    "id": "iT2U6fb8BfZr",
    "outputId": "b685d52e-16cf-49fe-f204-5bf331ad09bd"
   },
   "outputs": [],
   "source": [
    "# Check the unique values in each feature\n",
    "train_set.nunique()"
   ]
  },
  {
   "cell_type": "code",
   "execution_count": null,
   "metadata": {
    "colab": {
     "base_uri": "https://localhost:8080/",
     "height": 300
    },
    "executionInfo": {
     "elapsed": 8,
     "status": "ok",
     "timestamp": 1702871176064,
     "user": {
      "displayName": "Chao Huang",
      "userId": "02613034862469364833"
     },
     "user_tz": 300
    },
    "id": "AiKtGOekB-8o",
    "outputId": "9e34eb80-d0c7-4ca0-d2fd-45ce8411942c"
   },
   "outputs": [],
   "source": [
    "# Descriptive analysis\n",
    "train_set.describe()"
   ]
  },
  {
   "cell_type": "code",
   "execution_count": null,
   "metadata": {
    "colab": {
     "base_uri": "https://localhost:8080/"
    },
    "executionInfo": {
     "elapsed": 132,
     "status": "ok",
     "timestamp": 1702871723914,
     "user": {
      "displayName": "Chao Huang",
      "userId": "02613034862469364833"
     },
     "user_tz": 300
    },
    "id": "PPEgvVNYC8LL",
    "outputId": "faa37180-1c2b-4256-8c60-cef30ab7d708"
   },
   "outputs": [],
   "source": [
    "# Check if the dataset is balance or not\n",
    "num_survived = train_set[train_set.Survived == 1].Survived.count()\n",
    "print(f'Total number of survived passangers is {num_survived}')\n",
    "print(f'Survival rate is {num_survived/len(train_set)}')"
   ]
  },
  {
   "cell_type": "code",
   "execution_count": null,
   "metadata": {
    "colab": {
     "base_uri": "https://localhost:8080/",
     "height": 560
    },
    "executionInfo": {
     "elapsed": 1344,
     "status": "ok",
     "timestamp": 1702870831487,
     "user": {
      "displayName": "Chao Huang",
      "userId": "02613034862469364833"
     },
     "user_tz": 300
    },
    "id": "asV24DEt_TPZ",
    "outputId": "b5f53b4b-cf72-4d13-9b3f-610e5177decf"
   },
   "outputs": [],
   "source": [
    "# Draw Correlation Matrix\n",
    "correlation_matrix =train_set.corr()\n",
    "sns.heatmap(correlation_matrix, annot=True, cmap='coolwarm')\n",
    "plt.show()"
   ]
  },
  {
   "cell_type": "code",
   "execution_count": null,
   "metadata": {
    "id": "WT9RnyPXAbIU"
   },
   "outputs": [],
   "source": [
    "# Select the features and target variable\n",
    "features = ['Pclass', 'Sex', 'Age', 'SibSp', 'Parch', 'Fare', 'Embarked']\n",
    "target = 'Survived'\n",
    "X = train_set[features]\n",
    "y = train_set[target]"
   ]
  },
  {
   "cell_type": "code",
   "execution_count": null,
   "metadata": {},
   "outputs": [],
   "source": [
    "# One-hot encoding for categorical variables\n",
    "X = pd.get_dummies(X, columns = ['Pclass', 'Sex', 'Embarked'])\n",
    "# Fill null with mean\n",
    "X.fillna(X.mean(), inplace=True)"
   ]
  },
  {
   "cell_type": "code",
   "execution_count": null,
   "metadata": {},
   "outputs": [],
   "source": [
    "# K-fold Cross-Validation using random forest\n",
    "n_splits = 10\n",
    "kf = KFold(n_splits = n_splits, shuffle = True, random_state = 42)\n",
    "accuracies = []\n",
    "for train_index, test_index in kf.split(X):\n",
    "    X_train, X_test = X.iloc[train_index], X.iloc[test_index]\n",
    "    y_train, y_test = y.iloc[train_index], y.iloc[test_index]\n",
    "    clf = RandomForestClassifier(n_estimators=100, random_state=42)\n",
    "    clf.fit(X_train, y_train)\n",
    "    y_pred = clf.predict(X_test)\n",
    "    accuracy = accuracy_score(y_test, y_pred)\n",
    "    accuracies.append(accuracy)\n",
    "average_accuracy = np.mean(accuracies)\n",
    "print(\"Average accuracy is: \", average_accuracy)\n",
    "print(\"Standard deviation of accuracy is: \", np.std(accuracies))"
   ]
  },
  {
   "cell_type": "code",
   "execution_count": null,
   "metadata": {},
   "outputs": [],
   "source": [
    "# Define the hyperparameters and their distributions\n",
    "param_dist = {\n",
    "    'n_estimators': stats.randint(100, 500),\n",
    "    'max_depth': [None] + list(np.arange(10, 110, 10)),\n",
    "    'min_samples_split': stats.randint(2, 11),\n",
    "    'min_samples_leaf': stats.randint(1, 5)\n",
    "}\n",
    "# Create the classifier or model you want to tune\n",
    "clf = RandomForestClassifier()\n",
    "# Instantiate the RandomizedSearchCV object\n",
    "random_search = RandomizedSearchCV(clf, param_distributions=param_dist, n_iter=100, cv=5, scoring='accuracy', n_jobs=-1)\n",
    "# Fit the random search to your data\n",
    "random_search.fit(X, y)\n",
    "# Print the best hyperparameters and corresponding score\n",
    "print(\"Best Hyperparameters:\", random_search.best_params_)\n",
    "print(\"Best Score:\", random_search.best_score_)"
   ]
  },
  {
   "cell_type": "code",
   "execution_count": null,
   "metadata": {},
   "outputs": [],
   "source": [
    "# Train the model with best hyperparmeters\n",
    "clf = RandomForestClassifier(max_depth = random_search.best_params_['max_depth'], min_samples_leaf = random_search.best_params_['min_samples_leaf'], min_samples_split = random_search.best_params_['min_samples_split'], n_estimators = random_search.best_params_['n_estimators'])"
   ]
  },
  {
   "cell_type": "code",
   "execution_count": null,
   "metadata": {},
   "outputs": [],
   "source": [
    "# Fit the random search to the data\n",
    "clf.fit(X, y)"
   ]
  },
  {
   "cell_type": "code",
   "execution_count": null,
   "metadata": {},
   "outputs": [],
   "source": [
    "# Select the features and target variable\n",
    "features = ['Pclass', 'Sex', 'Age', 'SibSp', 'Parch', 'Fare', 'Embarked']\n",
    "X_test_set = test_set[features]\n",
    "# One-hot encoding for categorical variables\n",
    "X_test_set = pd.get_dummies(X_test_set, columns = ['Pclass', 'Sex', 'Embarked'])\n",
    "# Fill null with mean\n",
    "X_test_set.fillna(X.mean(), inplace=True)"
   ]
  },
  {
   "cell_type": "code",
   "execution_count": null,
   "metadata": {},
   "outputs": [],
   "source": [
    "# Predict\n",
    "y_test_pred = clf.predict(X_test_set)"
   ]
  },
  {
   "cell_type": "code",
   "execution_count": null,
   "metadata": {},
   "outputs": [],
   "source": [
    "# Append the predicted results to the testset\n",
    "test_set['Survived'] = y_test_pred"
   ]
  },
  {
   "cell_type": "code",
   "execution_count": null,
   "metadata": {},
   "outputs": [],
   "source": [
    "# Draw Correlation Matrix\n",
    "correlation_matrix =test_set.corr()\n",
    "sns.heatmap(correlation_matrix, annot=True, cmap='coolwarm')\n",
    "plt.show()"
   ]
  },
  {
   "cell_type": "code",
   "execution_count": null,
   "metadata": {},
   "outputs": [],
   "source": [
    "# Calculate the survival rate of the prediction\n",
    "num_survived = test_set[test_set.Survived == 1].Survived.count()\n",
    "print(f'Total number of predicted survived passangers is {num_survived}')\n",
    "print(f'Survival rate is {num_survived/len(test_set)}')"
   ]
  },
  {
   "cell_type": "code",
   "execution_count": null,
   "metadata": {},
   "outputs": [],
   "source": [
    "Output = test_set[['PassengerId', 'Survived']]"
   ]
  },
  {
   "cell_type": "code",
   "execution_count": null,
   "metadata": {},
   "outputs": [],
   "source": [
    "Output.to_csv(project_dir + 'Prediction.csv', index = False)"
   ]
  },
  {
   "cell_type": "code",
   "execution_count": null,
   "metadata": {},
   "outputs": [],
   "source": []
  },
  {
   "cell_type": "code",
   "execution_count": null,
   "metadata": {},
   "outputs": [],
   "source": []
  }
 ],
 "metadata": {
  "colab": {
   "authorship_tag": "ABX9TyO/+qzevEUJ8SO1kJ+D+X/m",
   "provenance": []
  },
  "kernelspec": {
   "display_name": "Python 3 (ipykernel)",
   "language": "python",
   "name": "python3"
  },
  "language_info": {
   "codemirror_mode": {
    "name": "ipython",
    "version": 3
   },
   "file_extension": ".py",
   "mimetype": "text/x-python",
   "name": "python",
   "nbconvert_exporter": "python",
   "pygments_lexer": "ipython3",
   "version": "3.12.1"
  }
 },
 "nbformat": 4,
 "nbformat_minor": 1
}
